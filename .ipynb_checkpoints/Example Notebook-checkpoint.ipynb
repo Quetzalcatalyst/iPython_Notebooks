{
 "metadata": {
  "name": "",
  "signature": "sha256:fe0f0baab038ddfdaa0b7ec78592e8ca509ac0f8d322efb0725e1eab60620a82"
 },
 "nbformat": 3,
 "nbformat_minor": 0,
 "worksheets": [
  {
   "cells": [
    {
     "cell_type": "markdown",
     "metadata": {},
     "source": [
      "Click on Help -> User Interface Tour to get an idea what all the UI components do. Then check out the keyboard shortcuts, don't  expect to memorize it all at once, but picking up a few here and there can make your work-flow much faster. The documentation for python can also be found there. "
     ]
    },
    {
     "cell_type": "markdown",
     "metadata": {},
     "source": [
      "<h3>If you know html or css..</h3>\n",
      "It's <i>verrry</i> easy to create <b>formatted</b> <u>text</u>\n",
      "\n",
      "There are some interesting things available in this markdown language like code snippets (read about it in help -> Github Markdown): \n",
      "\n",
      "Code:\n",
      "```\n",
      "<h3>If you know html or css..</h3>\n",
      "It's <i>verrry</i> easy to create <b>formatted</b> <u>text</u>\n",
      "```"
     ]
    },
    {
     "cell_type": "markdown",
     "metadata": {},
     "source": [
      "You can link to files directly:\n",
      "<a href=\"res/Rathke.pdf\">Link</a>\n",
      "\n",
      "Code:\n",
      "```\n",
      "<a href=\"res/Rathke.pdf\">Link</a>\n",
      "```\n",
      "\n",
      "Or display images inline\n",
      "<img src=\"res/alignment.png\"></img>\n",
      "\n",
      "\n",
      "Code:\n",
      "```\n",
      "<img src=\"res/alignment.png\"></img>\n",
      "```\n"
     ]
    },
    {
     "cell_type": "markdown",
     "metadata": {},
     "source": [
      "This is just the beginning! I will update this with more cool things you can do shortly."
     ]
    },
    {
     "cell_type": "code",
     "collapsed": false,
     "input": [],
     "language": "python",
     "metadata": {},
     "outputs": []
    }
   ],
   "metadata": {}
  }
 ]
}