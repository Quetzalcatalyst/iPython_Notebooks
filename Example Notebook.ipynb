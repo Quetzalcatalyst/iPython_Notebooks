{
 "metadata": {
  "name": "",
  "signature": "sha256:0c5f26b016484dfbaab3391fb21dd4655aa8911b905224991a5e0c2e4853ee04"
 },
 "nbformat": 3,
 "nbformat_minor": 0,
 "worksheets": []
}